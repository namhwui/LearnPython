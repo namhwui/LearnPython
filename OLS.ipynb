{
 "cells": [
  {
   "cell_type": "markdown",
   "metadata": {},
   "source": [
    "# Linear regression (OLS)\n",
    "\n",
    "The simplest way of learning python (for statistics and its synonyms) seems to be coding specific tasks. \n",
    "That's what I will do here, and the first task is linear regression.\n",
    "Iris data set is used, because the data set is not the focus here. "
   ]
  },
  {
   "cell_type": "code",
   "execution_count": 10,
   "metadata": {},
   "outputs": [],
   "source": [
    "# Load library\n",
    "import numpy as np\n",
    "import pandas as pd\n",
    "from sklearn import linear_model\n",
    "from sklearn import datasets\n",
    "\n",
    "# Load data as a data frame (apparently easier to deal with; will read more on it)\n",
    "# Iris because I don't care\n",
    "data = datasets.load_iris()\n",
    "df = pd.DataFrame(data.data, columns = data.feature_names)"
   ]
  },
  {
   "cell_type": "markdown",
   "metadata": {},
   "source": [
    "## Simple linear regression\n",
    "1-dimensional covariate, 1-dimensional response."
   ]
  },
  {
   "cell_type": "code",
   "execution_count": 37,
   "metadata": {},
   "outputs": [
    {
     "name": "stdout",
     "output_type": "stream",
     "text": [
      "[3.10333437 3.11571133 3.12808829 3.13427677 3.10952285 3.08476893\n",
      " 3.13427677 3.10952285 3.14665373]\n",
      "0.1861043758938135\n"
     ]
    }
   ],
   "source": [
    "# Pick any two variables\n",
    "# [...] seems to give python equivalent of c(...) in R\n",
    "# LinearRegression need a matrix-like object for covariates, so I need [[...]] to preserve the dimension of the covariate matrix\n",
    "X = df[[\"sepal length (cm)\"]]\n",
    "y = df[\"sepal width (cm)\"]"
   ]
  },
  {
   "cell_type": "markdown",
   "metadata": {},
   "source": [
    "### Easier way: sklearn\n",
    "Simple linear regression can be fitted with 2 lines using scikit-learn.\n",
    "I need to be mindful when extracting columns in a data frame, so that I don't lose its dimensions.\n",
    "LinearRegression complains at a dimension-less single-covariate data set."
   ]
  },
  {
   "cell_type": "code",
   "execution_count": null,
   "metadata": {},
   "outputs": [],
   "source": [
    "# Assign linear regression object\n",
    "lm = linear_model.LinearRegression()\n",
    "\n",
    "# Fit the model\n",
    "model = lm.fit(X, y)\n",
    "\n",
    "# \"Predictions\" \n",
    "pred = lm.predict(X)\n",
    "\n",
    "# Print predictions; zero indexing in python will be confusing initially\n",
    "print(pred[0:9])\n",
    "\n",
    "# How close are the estimates to the actual response? (via MSE)\n",
    "print(np.square((y - pred)).mean())"
   ]
  },
  {
   "cell_type": "markdown",
   "metadata": {},
   "source": [
    "### Harder way: manual via numpy\n",
    "Let's try computing the coefficients manually. \n",
    "This is inefficient in general, since I get only the coefficients, and none of the related test statistics or model diagnostics."
   ]
  },
  {
   "cell_type": "code",
   "execution_count": null,
   "metadata": {},
   "outputs": [],
   "source": []
  }
 ],
 "metadata": {
  "interpreter": {
   "hash": "46dc1de199b02fb5c52e9fa0b6472969d20670845175b514ffb233017bc71279"
  },
  "kernelspec": {
   "display_name": "Python 3.7.11 64-bit ('myenv': conda)",
   "name": "python3"
  },
  "language_info": {
   "codemirror_mode": {
    "name": "ipython",
    "version": 3
   },
   "file_extension": ".py",
   "mimetype": "text/x-python",
   "name": "python",
   "nbconvert_exporter": "python",
   "pygments_lexer": "ipython3",
   "version": "3.7.11"
  },
  "orig_nbformat": 4
 },
 "nbformat": 4,
 "nbformat_minor": 2
}
